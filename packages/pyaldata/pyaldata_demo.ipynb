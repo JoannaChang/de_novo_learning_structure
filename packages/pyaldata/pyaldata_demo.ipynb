{
 "cells": [
  {
   "cell_type": "markdown",
   "metadata": {},
   "source": [
    "# Imports "
   ]
  },
  {
   "cell_type": "markdown",
   "metadata": {},
   "source": [
    "## general "
   ]
  },
  {
   "cell_type": "code",
   "execution_count": 1,
   "metadata": {},
   "outputs": [],
   "source": [
    "import pandas as pd\n",
    "import numpy as np\n",
    "import xarray as xr\n",
    "\n",
    "import os\n",
    "from tqdm.auto import tqdm\n",
    "\n",
    "import matplotlib.pyplot as plt\n",
    "import seaborn as sns"
   ]
  },
  {
   "cell_type": "markdown",
   "metadata": {},
   "source": [
    "## PyalData"
   ]
  },
  {
   "cell_type": "code",
   "execution_count": 2,
   "metadata": {},
   "outputs": [],
   "source": [
    "from pyaldata import *"
   ]
  },
  {
   "cell_type": "markdown",
   "metadata": {},
   "source": [
    "# Load data"
   ]
  },
  {
   "cell_type": "code",
   "execution_count": 3,
   "metadata": {},
   "outputs": [],
   "source": [
    "# TODO: add example data to the repo and run on that\n",
    "data_dir = \"/Users/bagibence/Box Sync/Imperial/data/\"\n",
    "fname = os.path.join(data_dir, \"Chewie_CO_CS_2016-10-21.mat\")"
   ]
  },
  {
   "cell_type": "code",
   "execution_count": 4,
   "metadata": {},
   "outputs": [],
   "source": [
    "# load TrialData .mat file into a DataFrame\n",
    "df = mat2dataframe(fname, shift_idx_fields=True)"
   ]
  },
  {
   "cell_type": "markdown",
   "metadata": {},
   "source": [
    "Each trial is a row in the dataframe\n",
    "\n",
    "By using `pandas` we get a lot of functionality for free."
   ]
  },
  {
   "cell_type": "code",
   "execution_count": 5,
   "metadata": {},
   "outputs": [
    {
     "data": {
      "text/html": [
       "<div>\n",
       "<style scoped>\n",
       "    .dataframe tbody tr th:only-of-type {\n",
       "        vertical-align: middle;\n",
       "    }\n",
       "\n",
       "    .dataframe tbody tr th {\n",
       "        vertical-align: top;\n",
       "    }\n",
       "\n",
       "    .dataframe thead th {\n",
       "        text-align: right;\n",
       "    }\n",
       "</style>\n",
       "<table border=\"1\" class=\"dataframe\">\n",
       "  <thead>\n",
       "    <tr style=\"text-align: right;\">\n",
       "      <th></th>\n",
       "      <th>monkey</th>\n",
       "      <th>date</th>\n",
       "      <th>task</th>\n",
       "      <th>target_direction</th>\n",
       "      <th>trial_id</th>\n",
       "      <th>result</th>\n",
       "      <th>bin_size</th>\n",
       "      <th>perturbation</th>\n",
       "      <th>perturbation_info</th>\n",
       "      <th>epoch</th>\n",
       "      <th>...</th>\n",
       "      <th>idx_peak_speed</th>\n",
       "      <th>idx_trial_end</th>\n",
       "      <th>pos</th>\n",
       "      <th>vel</th>\n",
       "      <th>acc</th>\n",
       "      <th>force</th>\n",
       "      <th>M1_spikes</th>\n",
       "      <th>M1_unit_guide</th>\n",
       "      <th>PMd_spikes</th>\n",
       "      <th>PMd_unit_guide</th>\n",
       "    </tr>\n",
       "  </thead>\n",
       "  <tbody>\n",
       "    <tr>\n",
       "      <th>0</th>\n",
       "      <td>Chewie</td>\n",
       "      <td>10-21-2016</td>\n",
       "      <td>CO</td>\n",
       "      <td>0.785398</td>\n",
       "      <td>1</td>\n",
       "      <td>R</td>\n",
       "      <td>0.01</td>\n",
       "      <td>CS</td>\n",
       "      <td>-0.52</td>\n",
       "      <td>BL</td>\n",
       "      <td>...</td>\n",
       "      <td>369</td>\n",
       "      <td>446</td>\n",
       "      <td>[[5.778064202616431, -35.397015549165786], [5....</td>\n",
       "      <td>[[-0.7793813732066821, 4.136785603960551], [-1...</td>\n",
       "      <td>[[-51.969786428074926, 14.202847093285325], [-...</td>\n",
       "      <td>[[0.12316992347195488, 0.2506054987408934], [0...</td>\n",
       "      <td>[[0, 0, 0, 0, 0, 0, 0, 0, 0, 0, 0, 0, 1, 1, 0,...</td>\n",
       "      <td>[[1, 1], [1, 2], [3, 1], [5, 1], [5, 2], [7, 1...</td>\n",
       "      <td>[[0, 0, 0, 0, 0, 0, 0, 0, 0, 0, 0, 0, 0, 0, 0,...</td>\n",
       "      <td>[[1, 1], [1, 2], [1, 3], [4, 1], [4, 2], [5, 1...</td>\n",
       "    </tr>\n",
       "    <tr>\n",
       "      <th>1</th>\n",
       "      <td>Chewie</td>\n",
       "      <td>10-21-2016</td>\n",
       "      <td>CO</td>\n",
       "      <td>1.570796</td>\n",
       "      <td>2</td>\n",
       "      <td>R</td>\n",
       "      <td>0.01</td>\n",
       "      <td>CS</td>\n",
       "      <td>-0.52</td>\n",
       "      <td>BL</td>\n",
       "      <td>...</td>\n",
       "      <td>312</td>\n",
       "      <td>374</td>\n",
       "      <td>[[5.749738457404149, -24.643406091404042], [5....</td>\n",
       "      <td>[[1.9163909188240478, -2.763349295373866], [1....</td>\n",
       "      <td>[[-36.779409320972285, 1.7821809867372298], [-...</td>\n",
       "      <td>[[0.3685575721810173, 0.17911060954700603], [0...</td>\n",
       "      <td>[[0, 0, 0, 0, 0, 0, 0, 0, 0, 0, 0, 0, 0, 0, 0,...</td>\n",
       "      <td>[[1, 1], [1, 2], [3, 1], [5, 1], [5, 2], [7, 1...</td>\n",
       "      <td>[[0, 0, 0, 0, 0, 0, 0, 0, 0, 0, 0, 0, 0, 0, 0,...</td>\n",
       "      <td>[[1, 1], [1, 2], [1, 3], [4, 1], [4, 2], [5, 1...</td>\n",
       "    </tr>\n",
       "    <tr>\n",
       "      <th>2</th>\n",
       "      <td>Chewie</td>\n",
       "      <td>10-21-2016</td>\n",
       "      <td>CO</td>\n",
       "      <td>-1.570796</td>\n",
       "      <td>3</td>\n",
       "      <td>R</td>\n",
       "      <td>0.01</td>\n",
       "      <td>CS</td>\n",
       "      <td>-0.52</td>\n",
       "      <td>BL</td>\n",
       "      <td>...</td>\n",
       "      <td>341</td>\n",
       "      <td>405</td>\n",
       "      <td>[[-0.08846028882207335, -21.796383214740942], ...</td>\n",
       "      <td>[[0.6600912719115256, -4.014682191879345], [0....</td>\n",
       "      <td>[[15.812499710917256, 16.621785484272777], [10...</td>\n",
       "      <td>[[0.3523246575179767, -0.09122904723894733], [...</td>\n",
       "      <td>[[0, 0, 0, 0, 0, 0, 0, 0, 0, 0, 0, 0, 0, 0, 1,...</td>\n",
       "      <td>[[1, 1], [1, 2], [3, 1], [5, 1], [5, 2], [7, 1...</td>\n",
       "      <td>[[0, 0, 0, 0, 0, 0, 0, 0, 0, 0, 0, 0, 0, 0, 0,...</td>\n",
       "      <td>[[1, 1], [1, 2], [1, 3], [4, 1], [4, 2], [5, 1...</td>\n",
       "    </tr>\n",
       "    <tr>\n",
       "      <th>3</th>\n",
       "      <td>Chewie</td>\n",
       "      <td>10-21-2016</td>\n",
       "      <td>CO</td>\n",
       "      <td>3.141593</td>\n",
       "      <td>4</td>\n",
       "      <td>R</td>\n",
       "      <td>0.01</td>\n",
       "      <td>CS</td>\n",
       "      <td>-0.52</td>\n",
       "      <td>BL</td>\n",
       "      <td>...</td>\n",
       "      <td>269</td>\n",
       "      <td>326</td>\n",
       "      <td>[[0.2044172614704891, -37.980265533779594], [0...</td>\n",
       "      <td>[[4.529933995107801, 4.629844429981232], [4.06...</td>\n",
       "      <td>[[-39.8450200830264, 25.037788333969146], [-48...</td>\n",
       "      <td>[[0.16886748091580156, 0.07539164418520175], [...</td>\n",
       "      <td>[[0, 1, 1, 0, 0, 1, 0, 0, 0, 0, 1, 0, 0, 0, 0,...</td>\n",
       "      <td>[[1, 1], [1, 2], [3, 1], [5, 1], [5, 2], [7, 1...</td>\n",
       "      <td>[[0, 0, 0, 0, 0, 0, 0, 0, 0, 0, 0, 0, 0, 0, 0,...</td>\n",
       "      <td>[[1, 1], [1, 2], [1, 3], [4, 1], [4, 2], [5, 1...</td>\n",
       "    </tr>\n",
       "    <tr>\n",
       "      <th>4</th>\n",
       "      <td>Chewie</td>\n",
       "      <td>10-21-2016</td>\n",
       "      <td>CO</td>\n",
       "      <td>-2.356194</td>\n",
       "      <td>5</td>\n",
       "      <td>R</td>\n",
       "      <td>0.01</td>\n",
       "      <td>CS</td>\n",
       "      <td>-0.52</td>\n",
       "      <td>BL</td>\n",
       "      <td>...</td>\n",
       "      <td>347</td>\n",
       "      <td>414</td>\n",
       "      <td>[[-8.487759048702024, -29.610739441410566], [-...</td>\n",
       "      <td>[[3.3872550577518203, -0.3581721292107508], [4...</td>\n",
       "      <td>[[88.37767895758228, -30.26694467609077], [95....</td>\n",
       "      <td>[[0.5500420770141063, -0.39266117674997386], [...</td>\n",
       "      <td>[[0, 0, 0, 1, 1, 1, 0, 0, 0, 1, 0, 0, 0, 0, 0,...</td>\n",
       "      <td>[[1, 1], [1, 2], [3, 1], [5, 1], [5, 2], [7, 1...</td>\n",
       "      <td>[[1, 0, 0, 0, 0, 0, 0, 0, 0, 0, 0, 0, 0, 0, 0,...</td>\n",
       "      <td>[[1, 1], [1, 2], [1, 3], [4, 1], [4, 2], [5, 1...</td>\n",
       "    </tr>\n",
       "  </tbody>\n",
       "</table>\n",
       "<p>5 rows × 24 columns</p>\n",
       "</div>"
      ],
      "text/plain": [
       "   monkey        date task  target_direction  trial_id result  bin_size  \\\n",
       "0  Chewie  10-21-2016   CO          0.785398         1      R      0.01   \n",
       "1  Chewie  10-21-2016   CO          1.570796         2      R      0.01   \n",
       "2  Chewie  10-21-2016   CO         -1.570796         3      R      0.01   \n",
       "3  Chewie  10-21-2016   CO          3.141593         4      R      0.01   \n",
       "4  Chewie  10-21-2016   CO         -2.356194         5      R      0.01   \n",
       "\n",
       "  perturbation  perturbation_info epoch  ...  idx_peak_speed  idx_trial_end  \\\n",
       "0           CS              -0.52    BL  ...             369            446   \n",
       "1           CS              -0.52    BL  ...             312            374   \n",
       "2           CS              -0.52    BL  ...             341            405   \n",
       "3           CS              -0.52    BL  ...             269            326   \n",
       "4           CS              -0.52    BL  ...             347            414   \n",
       "\n",
       "                                                 pos  \\\n",
       "0  [[5.778064202616431, -35.397015549165786], [5....   \n",
       "1  [[5.749738457404149, -24.643406091404042], [5....   \n",
       "2  [[-0.08846028882207335, -21.796383214740942], ...   \n",
       "3  [[0.2044172614704891, -37.980265533779594], [0...   \n",
       "4  [[-8.487759048702024, -29.610739441410566], [-...   \n",
       "\n",
       "                                                 vel  \\\n",
       "0  [[-0.7793813732066821, 4.136785603960551], [-1...   \n",
       "1  [[1.9163909188240478, -2.763349295373866], [1....   \n",
       "2  [[0.6600912719115256, -4.014682191879345], [0....   \n",
       "3  [[4.529933995107801, 4.629844429981232], [4.06...   \n",
       "4  [[3.3872550577518203, -0.3581721292107508], [4...   \n",
       "\n",
       "                                                 acc  \\\n",
       "0  [[-51.969786428074926, 14.202847093285325], [-...   \n",
       "1  [[-36.779409320972285, 1.7821809867372298], [-...   \n",
       "2  [[15.812499710917256, 16.621785484272777], [10...   \n",
       "3  [[-39.8450200830264, 25.037788333969146], [-48...   \n",
       "4  [[88.37767895758228, -30.26694467609077], [95....   \n",
       "\n",
       "                                               force  \\\n",
       "0  [[0.12316992347195488, 0.2506054987408934], [0...   \n",
       "1  [[0.3685575721810173, 0.17911060954700603], [0...   \n",
       "2  [[0.3523246575179767, -0.09122904723894733], [...   \n",
       "3  [[0.16886748091580156, 0.07539164418520175], [...   \n",
       "4  [[0.5500420770141063, -0.39266117674997386], [...   \n",
       "\n",
       "                                           M1_spikes  \\\n",
       "0  [[0, 0, 0, 0, 0, 0, 0, 0, 0, 0, 0, 0, 1, 1, 0,...   \n",
       "1  [[0, 0, 0, 0, 0, 0, 0, 0, 0, 0, 0, 0, 0, 0, 0,...   \n",
       "2  [[0, 0, 0, 0, 0, 0, 0, 0, 0, 0, 0, 0, 0, 0, 1,...   \n",
       "3  [[0, 1, 1, 0, 0, 1, 0, 0, 0, 0, 1, 0, 0, 0, 0,...   \n",
       "4  [[0, 0, 0, 1, 1, 1, 0, 0, 0, 1, 0, 0, 0, 0, 0,...   \n",
       "\n",
       "                                       M1_unit_guide  \\\n",
       "0  [[1, 1], [1, 2], [3, 1], [5, 1], [5, 2], [7, 1...   \n",
       "1  [[1, 1], [1, 2], [3, 1], [5, 1], [5, 2], [7, 1...   \n",
       "2  [[1, 1], [1, 2], [3, 1], [5, 1], [5, 2], [7, 1...   \n",
       "3  [[1, 1], [1, 2], [3, 1], [5, 1], [5, 2], [7, 1...   \n",
       "4  [[1, 1], [1, 2], [3, 1], [5, 1], [5, 2], [7, 1...   \n",
       "\n",
       "                                          PMd_spikes  \\\n",
       "0  [[0, 0, 0, 0, 0, 0, 0, 0, 0, 0, 0, 0, 0, 0, 0,...   \n",
       "1  [[0, 0, 0, 0, 0, 0, 0, 0, 0, 0, 0, 0, 0, 0, 0,...   \n",
       "2  [[0, 0, 0, 0, 0, 0, 0, 0, 0, 0, 0, 0, 0, 0, 0,...   \n",
       "3  [[0, 0, 0, 0, 0, 0, 0, 0, 0, 0, 0, 0, 0, 0, 0,...   \n",
       "4  [[1, 0, 0, 0, 0, 0, 0, 0, 0, 0, 0, 0, 0, 0, 0,...   \n",
       "\n",
       "                                      PMd_unit_guide  \n",
       "0  [[1, 1], [1, 2], [1, 3], [4, 1], [4, 2], [5, 1...  \n",
       "1  [[1, 1], [1, 2], [1, 3], [4, 1], [4, 2], [5, 1...  \n",
       "2  [[1, 1], [1, 2], [1, 3], [4, 1], [4, 2], [5, 1...  \n",
       "3  [[1, 1], [1, 2], [1, 3], [4, 1], [4, 2], [5, 1...  \n",
       "4  [[1, 1], [1, 2], [1, 3], [4, 1], [4, 2], [5, 1...  \n",
       "\n",
       "[5 rows x 24 columns]"
      ]
     },
     "execution_count": 5,
     "metadata": {},
     "output_type": "execute_result"
    }
   ],
   "source": [
    "df.head()"
   ]
  },
  {
   "cell_type": "markdown",
   "metadata": {},
   "source": [
    "# Preprocess "
   ]
  },
  {
   "cell_type": "markdown",
   "metadata": {},
   "source": [
    "## combine time-bins into longer ones"
   ]
  },
  {
   "cell_type": "markdown",
   "metadata": {},
   "source": [
    "Every function that returns a trial_data dataframe works on and returns a copy, so the original dataframe is not changed."
   ]
  },
  {
   "cell_type": "code",
   "execution_count": 6,
   "metadata": {},
   "outputs": [
    {
     "name": "stdout",
     "output_type": "stream",
     "text": [
      "0    0.01\n",
      "1    0.01\n",
      "2    0.01\n",
      "3    0.01\n",
      "4    0.01\n",
      "Name: bin_size, dtype: float64\n",
      "\n",
      "0    0.02\n",
      "1    0.02\n",
      "2    0.02\n",
      "3    0.02\n",
      "4    0.02\n",
      "Name: bin_size, dtype: float64\n"
     ]
    }
   ],
   "source": [
    "td = combine_time_bins(df, 2)\n",
    "\n",
    "print(df.head().bin_size)\n",
    "print()\n",
    "print(td.head().bin_size)"
   ]
  },
  {
   "cell_type": "markdown",
   "metadata": {},
   "source": [
    "Time-varying signals have new time coordinates"
   ]
  },
  {
   "cell_type": "code",
   "execution_count": 7,
   "metadata": {},
   "outputs": [
    {
     "name": "stdout",
     "output_type": "stream",
     "text": [
      "original:  (457, 84)\n",
      "combined:  (228, 84)\n"
     ]
    }
   ],
   "source": [
    "print(\"original: \", df.M1_spikes[0].shape)\n",
    "print(\"combined: \", td.M1_spikes[0].shape)"
   ]
  },
  {
   "cell_type": "markdown",
   "metadata": {},
   "source": [
    "## Remove low-firing neurons "
   ]
  },
  {
   "cell_type": "code",
   "execution_count": 8,
   "metadata": {},
   "outputs": [
    {
     "name": "stderr",
     "output_type": "stream",
     "text": [
      "/Users/bagibence/Box Sync/Imperial/PyalData/pyaldata/tools.py:979: UserWarning: Assuming spikes are actually spikes and dividing by bin size.\n",
      "  utils.warnings.warn(\"Assuming spikes are actually spikes and dividing by bin size.\")\n"
     ]
    },
    {
     "name": "stdout",
     "output_type": "stream",
     "text": [
      "original:  (457, 84)\n",
      "removed:   (228, 63)\n"
     ]
    }
   ],
   "source": [
    "td = remove_low_firing_neurons(td, \"M1_spikes\",  5)\n",
    "td = remove_low_firing_neurons(td, \"PMd_spikes\", 5)\n",
    "\n",
    "print(\"original: \", df.M1_spikes[0].shape)\n",
    "print(\"removed:  \", td.M1_spikes[0].shape)"
   ]
  },
  {
   "cell_type": "markdown",
   "metadata": {},
   "source": [
    "## Transform signals"
   ]
  },
  {
   "cell_type": "code",
   "execution_count": 9,
   "metadata": {},
   "outputs": [
    {
     "data": {
      "text/plain": [
       "array([[0.        , 0.        , 0.        , ..., 1.41421356, 0.        ,\n",
       "        0.        ],\n",
       "       [0.        , 1.        , 1.        , ..., 0.        , 1.        ,\n",
       "        0.        ],\n",
       "       [0.        , 1.        , 0.        , ..., 1.        , 0.        ,\n",
       "        1.        ],\n",
       "       ...,\n",
       "       [0.        , 1.        , 0.        , ..., 0.        , 1.        ,\n",
       "        0.        ],\n",
       "       [0.        , 0.        , 0.        , ..., 0.        , 0.        ,\n",
       "        0.        ],\n",
       "       [0.        , 1.        , 0.        , ..., 1.41421356, 1.        ,\n",
       "        0.        ]])"
      ]
     },
     "execution_count": 9,
     "metadata": {},
     "output_type": "execute_result"
    }
   ],
   "source": [
    "td = transform_signal(td, \"M1_spikes\",  'sqrt')\n",
    "td = transform_signal(td, \"PMd_spikes\", 'sqrt')\n",
    "\n",
    "# alternatively\n",
    "# td = sqrt_transform_signal(td, \"M1_spikes\", \"sqrt\")\n",
    "\n",
    "td.M1_spikes[0]"
   ]
  },
  {
   "cell_type": "markdown",
   "metadata": {},
   "source": [
    "For other transforms see the docstring of `transform_signal` (and the code)."
   ]
  },
  {
   "cell_type": "markdown",
   "metadata": {},
   "source": [
    "## Merge signals from multiple areas "
   ]
  },
  {
   "cell_type": "code",
   "execution_count": 10,
   "metadata": {},
   "outputs": [
    {
     "name": "stdout",
     "output_type": "stream",
     "text": [
      "Merging M1 and PMd gives 63 + 109 = 172 neurons\n"
     ]
    }
   ],
   "source": [
    "td = merge_signals(td, [\"M1_spikes\", \"PMd_spikes\"], \"both_spikes\")\n",
    "\n",
    "print(f\"Merging M1 and PMd gives {td.M1_spikes[0].shape[1]} + {td.PMd_spikes[0].shape[1]} = {td.both_spikes[0].shape[1]} neurons\")"
   ]
  },
  {
   "cell_type": "markdown",
   "metadata": {},
   "source": [
    "## Calculate firing rates from spikes "
   ]
  },
  {
   "cell_type": "code",
   "execution_count": 11,
   "metadata": {},
   "outputs": [],
   "source": [
    "# works on \"_spikes\" fields and automatically divides by bin_size\n",
    "td = add_firing_rates(td, 'smooth')"
   ]
  },
  {
   "cell_type": "markdown",
   "metadata": {},
   "source": [
    "For other fields use `smooth_signals`"
   ]
  },
  {
   "cell_type": "markdown",
   "metadata": {},
   "source": [
    "Internally we use `numpy` arrays for generality but working with `xarray` can save you a lot of headaches and thinking."
   ]
  },
  {
   "cell_type": "code",
   "execution_count": 12,
   "metadata": {},
   "outputs": [
    {
     "data": {
      "text/plain": [
       "<matplotlib.collections.QuadMesh at 0x15b268220>"
      ]
     },
     "execution_count": 12,
     "metadata": {},
     "output_type": "execute_result"
    },
    {
     "data": {
      "image/png": "[encoded data removed]",
      "text/plain": [
       "<Figure size 1440x432 with 4 Axes>"
      ]
     },
     "metadata": {
      "needs_background": "light"
     },
     "output_type": "display_data"
    }
   ],
   "source": [
    "fig, ax = plt.subplots(figsize = (20, 6), ncols = 2)\n",
    "\n",
    "xr.DataArray(td.M1_spikes[0], dims = ['time', 'neuron']).transpose('neuron', 'time').plot(ax=ax[0])\n",
    "xr.DataArray(td.M1_rates[0],  dims = ['time', 'neuron']).transpose('neuron', 'time').plot(ax=ax[1])"
   ]
  },
  {
   "cell_type": "markdown",
   "metadata": {},
   "source": [
    "## Keep only the successful trials"
   ]
  },
  {
   "cell_type": "code",
   "execution_count": 13,
   "metadata": {},
   "outputs": [
    {
     "name": "stdout",
     "output_type": "stream",
     "text": [
      "all trials: 293\n",
      "successful trials: 286\n"
     ]
    }
   ],
   "source": [
    "print(\"all trials:\", td.shape[0])\n",
    "\n",
    "td = select_trials(td, \"result == 'R'\")\n",
    "\n",
    "print(\"successful trials:\", td.shape[0])"
   ]
  },
  {
   "cell_type": "markdown",
   "metadata": {},
   "source": [
    "## Restrict time to an interval"
   ]
  },
  {
   "cell_type": "markdown",
   "metadata": {},
   "source": [
    "* **Q**: should we rename `before` and `after` to `rel_start` and `rel_end` or something similar?"
   ]
  },
  {
   "cell_type": "code",
   "execution_count": 14,
   "metadata": {},
   "outputs": [
    {
     "name": "stdout",
     "output_type": "stream",
     "text": [
      "first trial's length in full: (228, 172)\n",
      "first trial's length in the new dataframe: (41, 172)\n"
     ]
    }
   ],
   "source": [
    "move_td = restrict_to_interval(td, \"idx_movement_on\", end_point_name=None, before=0, after=40)\n",
    "\n",
    "print(\"first trial's length in full:\", td.both_rates[0].shape)\n",
    "print(\"first trial's length in the new dataframe:\", move_td.both_rates[0].shape)"
   ]
  },
  {
   "cell_type": "markdown",
   "metadata": {},
   "source": [
    "# Dimensionality reduction"
   ]
  },
  {
   "cell_type": "markdown",
   "metadata": {},
   "source": [
    "## Further preprocess by subtracting cross-condition mean "
   ]
  },
  {
   "cell_type": "code",
   "execution_count": 15,
   "metadata": {},
   "outputs": [],
   "source": [
    "# aka center per time point\n",
    "move_td = subtract_cross_condition_mean(move_td)"
   ]
  },
  {
   "cell_type": "markdown",
   "metadata": {},
   "source": [
    "## Apply PCA and FA "
   ]
  },
  {
   "cell_type": "code",
   "execution_count": 16,
   "metadata": {},
   "outputs": [],
   "source": [
    "from sklearn.decomposition import PCA, FactorAnalysis"
   ]
  },
  {
   "cell_type": "code",
   "execution_count": 17,
   "metadata": {},
   "outputs": [],
   "source": [
    "pca_dims = 30\n",
    "fa_dims = 2\n",
    "\n",
    "move_td = tools.dim_reduce(move_td, PCA(pca_dims), \"both_rates\", \"both_pca\")\n",
    "move_td = tools.dim_reduce(move_td, FactorAnalysis(fa_dims), \"both_rates\", \"both_fa\")"
   ]
  },
  {
   "cell_type": "code",
   "execution_count": 18,
   "metadata": {},
   "outputs": [
    {
     "name": "stdout",
     "output_type": "stream",
     "text": [
      "Reduced from 172 dimensions to 30\n"
     ]
    }
   ],
   "source": [
    "print(f\"Reduced from {move_td['both_rates'][0].shape[1]} dimensions to {move_td['both_pca'][0].shape[1]}\")"
   ]
  },
  {
   "cell_type": "markdown",
   "metadata": {},
   "source": [
    "## Calculate target ID from target direction"
   ]
  },
  {
   "cell_type": "code",
   "execution_count": 19,
   "metadata": {},
   "outputs": [],
   "source": [
    "def get_target_id(trial):\n",
    "    return int(np.round((trial.target_direction + np.pi) / (0.25*np.pi))) - 1\n",
    "\n",
    "# using pandas apply\n",
    "move_td[\"target_id\"] = move_td.apply(get_target_id, axis=1)\n",
    "\n",
    "# using a list comprehension\n",
    "#move_td[\"target_id\"] = [get_target_id(trial) for (i, trial) in df.iterrows()]"
   ]
  },
  {
   "cell_type": "markdown",
   "metadata": {},
   "source": [
    "## Trial averaging "
   ]
  },
  {
   "cell_type": "markdown",
   "metadata": {},
   "source": [
    "### Group by `target_id` and average"
   ]
  },
  {
   "cell_type": "code",
   "execution_count": 20,
   "metadata": {},
   "outputs": [],
   "source": [
    "av_per_dir = trial_average(move_td, \"target_id\")"
   ]
  },
  {
   "cell_type": "code",
   "execution_count": 21,
   "metadata": {},
   "outputs": [
    {
     "data": {
      "text/html": [
       "<div>\n",
       "<style scoped>\n",
       "    .dataframe tbody tr th:only-of-type {\n",
       "        vertical-align: middle;\n",
       "    }\n",
       "\n",
       "    .dataframe tbody tr th {\n",
       "        vertical-align: top;\n",
       "    }\n",
       "\n",
       "    .dataframe thead th {\n",
       "        text-align: right;\n",
       "    }\n",
       "</style>\n",
       "<table border=\"1\" class=\"dataframe\">\n",
       "  <thead>\n",
       "    <tr style=\"text-align: right;\">\n",
       "      <th></th>\n",
       "      <th>target_direction</th>\n",
       "      <th>bin_size</th>\n",
       "      <th>perturbation_info</th>\n",
       "      <th>idx_trial_start</th>\n",
       "      <th>idx_target_on</th>\n",
       "      <th>idx_go_cue</th>\n",
       "      <th>idx_movement_on</th>\n",
       "      <th>idx_peak_speed</th>\n",
       "      <th>idx_trial_end</th>\n",
       "      <th>pos</th>\n",
       "      <th>...</th>\n",
       "      <th>M1_unit_guide</th>\n",
       "      <th>PMd_spikes</th>\n",
       "      <th>PMd_unit_guide</th>\n",
       "      <th>both_spikes</th>\n",
       "      <th>M1_rates</th>\n",
       "      <th>PMd_rates</th>\n",
       "      <th>both_rates</th>\n",
       "      <th>both_pca</th>\n",
       "      <th>both_fa</th>\n",
       "      <th>target_id</th>\n",
       "    </tr>\n",
       "  </thead>\n",
       "  <tbody>\n",
       "    <tr>\n",
       "      <th>0</th>\n",
       "      <td>-2.356194</td>\n",
       "      <td>0.02</td>\n",
       "      <td>-0.52</td>\n",
       "      <td>NaN</td>\n",
       "      <td>NaN</td>\n",
       "      <td>NaN</td>\n",
       "      <td>0.0</td>\n",
       "      <td>8.394737</td>\n",
       "      <td>39.064516</td>\n",
       "      <td>[[-0.23688179989507785, -0.36996324319466917],...</td>\n",
       "      <td>...</td>\n",
       "      <td>[[1.0, 1.0], [1.0, 2.0], [5.0, 1.0], [5.0, 2.0...</td>\n",
       "      <td>[[-0.06953810410104687, 0.02075668884767882, 0...</td>\n",
       "      <td>[[1.0, 1.0], [1.0, 2.0], [6.0, 1.0], [0.263157...</td>\n",
       "      <td>[[-0.025739797144845172, -0.2641424895887824, ...</td>\n",
       "      <td>[[-1.3768337198349265, -7.671490726774552, -1....</td>\n",
       "      <td>[[-1.9131200351930613, -1.233225362990657, 3.2...</td>\n",
       "      <td>[[-1.3768337198349265, -7.671490726774552, -1....</td>\n",
       "      <td>[[-33.587026814515774, -24.7118469663875, 49.7...</td>\n",
       "      <td>[[-0.9174297015364706, 1.1719716605721233], [-...</td>\n",
       "      <td>0.0</td>\n",
       "    </tr>\n",
       "    <tr>\n",
       "      <th>1</th>\n",
       "      <td>-1.570796</td>\n",
       "      <td>0.02</td>\n",
       "      <td>-0.52</td>\n",
       "      <td>NaN</td>\n",
       "      <td>NaN</td>\n",
       "      <td>NaN</td>\n",
       "      <td>0.0</td>\n",
       "      <td>8.970588</td>\n",
       "      <td>40.285714</td>\n",
       "      <td>[[0.04243524693505478, -0.5324067543076972], [...</td>\n",
       "      <td>...</td>\n",
       "      <td>[[1.0, 1.0], [1.0, 2.0], [5.0, 1.0], [5.0, 2.0...</td>\n",
       "      <td>[[-0.03703036416296638, -0.0615522474917233, 0...</td>\n",
       "      <td>[[1.0, 1.0], [1.0, 2.0], [6.0, 1.0], [7.0, 2.0...</td>\n",
       "      <td>[[-0.048959611386331224, -0.29045827906246663,...</td>\n",
       "      <td>[[-1.5325598551960107, -14.254720652550462, -4...</td>\n",
       "      <td>[[0.3207482087158063, 0.40174331050487855, 0.7...</td>\n",
       "      <td>[[-1.5325598551960107, -14.254720652550462, -4...</td>\n",
       "      <td>[[-3.4629921438717384, -40.737454559683805, 13...</td>\n",
       "      <td>[[0.04600143217983713, 1.5555380973862427], [0...</td>\n",
       "      <td>1.0</td>\n",
       "    </tr>\n",
       "    <tr>\n",
       "      <th>2</th>\n",
       "      <td>-0.785398</td>\n",
       "      <td>0.02</td>\n",
       "      <td>-0.52</td>\n",
       "      <td>NaN</td>\n",
       "      <td>NaN</td>\n",
       "      <td>NaN</td>\n",
       "      <td>0.0</td>\n",
       "      <td>9.263158</td>\n",
       "      <td>40.300000</td>\n",
       "      <td>[[0.350513128403718, -0.3741507345529886], [0....</td>\n",
       "      <td>...</td>\n",
       "      <td>[[1.0, 1.0], [1.0, 2.0], [5.0, 1.0], [5.0, 2.0...</td>\n",
       "      <td>[[0.07294120017192932, -0.0055591006260052415,...</td>\n",
       "      <td>[[1.0, 1.0], [1.0, 2.0], [6.0, 1.0], [0.263157...</td>\n",
       "      <td>[[-0.025739797144845172, -0.2641424895887824, ...</td>\n",
       "      <td>[[-0.19689851440693615, -15.712295265106206, 8...</td>\n",
       "      <td>[[2.1262019548560396, 2.914896670181827, -3.29...</td>\n",
       "      <td>[[-0.19689851440693615, -15.712295265106206, 8...</td>\n",
       "      <td>[[45.4383273799782, -28.02694162964974, -26.29...</td>\n",
       "      <td>[[1.493892862684455, 0.7880548700442049], [1.6...</td>\n",
       "      <td>2.0</td>\n",
       "    </tr>\n",
       "    <tr>\n",
       "      <th>3</th>\n",
       "      <td>0.000000</td>\n",
       "      <td>0.02</td>\n",
       "      <td>-0.52</td>\n",
       "      <td>NaN</td>\n",
       "      <td>NaN</td>\n",
       "      <td>NaN</td>\n",
       "      <td>0.0</td>\n",
       "      <td>10.470588</td>\n",
       "      <td>41.000000</td>\n",
       "      <td>[[0.4192450331565533, 0.14670106108002468], [0...</td>\n",
       "      <td>...</td>\n",
       "      <td>[[1.0, 1.0], [1.0, 2.0], [5.0, 1.0], [5.0, 2.0...</td>\n",
       "      <td>[[-0.007618599457084017, 0.0682775631663088, -...</td>\n",
       "      <td>[[1.0, 1.0], [1.0, 2.0], [6.0, 1.0], [7.0, 2.0...</td>\n",
       "      <td>[[0.0686874474371982, -0.29045827906246663, 0....</td>\n",
       "      <td>[[-0.7369906171396141, -15.017813952240896, 11...</td>\n",
       "      <td>[[0.3815787297758928, 1.9932489409165925, -4.5...</td>\n",
       "      <td>[[-0.7369906171396141, -15.017813952240896, 11...</td>\n",
       "      <td>[[59.9757561265625, 4.665475809991278, -41.300...</td>\n",
       "      <td>[[1.8134195177318437, -0.5909404725726153], [1...</td>\n",
       "      <td>3.0</td>\n",
       "    </tr>\n",
       "    <tr>\n",
       "      <th>4</th>\n",
       "      <td>0.785398</td>\n",
       "      <td>0.02</td>\n",
       "      <td>-0.52</td>\n",
       "      <td>NaN</td>\n",
       "      <td>NaN</td>\n",
       "      <td>NaN</td>\n",
       "      <td>0.0</td>\n",
       "      <td>10.030303</td>\n",
       "      <td>40.000000</td>\n",
       "      <td>[[0.37782836641468703, 0.46267643576772666], [...</td>\n",
       "      <td>...</td>\n",
       "      <td>[[1.0, 1.0], [1.0, 2.0], [5.0, 1.0], [5.0, 2.0...</td>\n",
       "      <td>[[-0.06555086327170077, 0.12687396780450935, -...</td>\n",
       "      <td>[[1.0, 1.0], [1.0, 2.0], [6.0, 1.0], [7.0, 2.0...</td>\n",
       "      <td>[[0.012537714816877302, 0.012572023967836434, ...</td>\n",
       "      <td>[[0.24361697711807187, 0.30084274554006224, -3...</td>\n",
       "      <td>[[0.2449206302529509, 2.4894010679533687, -2.8...</td>\n",
       "      <td>[[0.24361697711807187, 0.30084274554006224, -3...</td>\n",
       "      <td>[[32.73303793304802, 34.76013913400561, -36.21...</td>\n",
       "      <td>[[0.8571264374326389, -1.507206544534516], [0....</td>\n",
       "      <td>4.0</td>\n",
       "    </tr>\n",
       "    <tr>\n",
       "      <th>5</th>\n",
       "      <td>1.570796</td>\n",
       "      <td>0.02</td>\n",
       "      <td>-0.52</td>\n",
       "      <td>NaN</td>\n",
       "      <td>NaN</td>\n",
       "      <td>NaN</td>\n",
       "      <td>0.0</td>\n",
       "      <td>12.888889</td>\n",
       "      <td>39.666667</td>\n",
       "      <td>[[0.0694744740749151, 0.5321906410410623], [0....</td>\n",
       "      <td>...</td>\n",
       "      <td>[[1.0, 1.0], [1.0, 2.0], [5.0, 1.0], [5.0, 2.0...</td>\n",
       "      <td>[[0.0430349953141578, -0.15700030886814986, -0...</td>\n",
       "      <td>[[1.0, 1.0], [1.0, 2.0], [6.0, 1.0], [7.0, 2.0...</td>\n",
       "      <td>[[0.15535677841815018, 0.42699802995826097, -0...</td>\n",
       "      <td>[[3.4523153937481617, 16.788530176262512, -7.6...</td>\n",
       "      <td>[[-0.22586519495454438, -3.1499662903506422, 1...</td>\n",
       "      <td>[[3.4523153937481617, 16.788530176262512, -7.6...</td>\n",
       "      <td>[[-15.946289611438134, 29.7326130379709, -18.1...</td>\n",
       "      <td>[[-0.5329146212071201, -1.0956945210067093], [...</td>\n",
       "      <td>5.0</td>\n",
       "    </tr>\n",
       "    <tr>\n",
       "      <th>6</th>\n",
       "      <td>2.356194</td>\n",
       "      <td>0.02</td>\n",
       "      <td>-0.52</td>\n",
       "      <td>NaN</td>\n",
       "      <td>NaN</td>\n",
       "      <td>NaN</td>\n",
       "      <td>0.0</td>\n",
       "      <td>12.891892</td>\n",
       "      <td>NaN</td>\n",
       "      <td>[[-0.3773516876932012, 0.29472940944353], [-0....</td>\n",
       "      <td>...</td>\n",
       "      <td>[[1.0, 1.0], [1.0, 2.0], [5.0, 1.0], [5.0, 2.0...</td>\n",
       "      <td>[[0.03928124156040407, -0.04101121376074874, 0...</td>\n",
       "      <td>[[1.0, 1.0], [1.0, 2.0], [6.0, 1.0], [0.081081...</td>\n",
       "      <td>[[-0.07837137609221358, 0.3805802918766197, 0....</td>\n",
       "      <td>[[0.4306915704879451, 18.515460050475994, -3.8...</td>\n",
       "      <td>[[-0.8362690748242982, -3.081999991511394, 1.7...</td>\n",
       "      <td>[[0.4306915704879451, 18.515460050475994, -3.8...</td>\n",
       "      <td>[[-37.98144392241708, 18.218316796427732, 14.2...</td>\n",
       "      <td>[[-1.2418559348664033, -0.47345262793933873], ...</td>\n",
       "      <td>6.0</td>\n",
       "    </tr>\n",
       "    <tr>\n",
       "      <th>7</th>\n",
       "      <td>3.141593</td>\n",
       "      <td>0.02</td>\n",
       "      <td>-0.52</td>\n",
       "      <td>NaN</td>\n",
       "      <td>NaN</td>\n",
       "      <td>NaN</td>\n",
       "      <td>0.0</td>\n",
       "      <td>10.111111</td>\n",
       "      <td>39.809524</td>\n",
       "      <td>[[-0.5839590200048925, -0.10949580230761373], ...</td>\n",
       "      <td>...</td>\n",
       "      <td>[[1.0, 1.0], [1.0, 2.0], [5.0, 1.0], [5.0, 2.0...</td>\n",
       "      <td>[[0.015257217536380034, 0.060456000152577655, ...</td>\n",
       "      <td>[[1.0, 1.0], [1.0, 2.0], [6.0, 1.0], [7.0, 2.0...</td>\n",
       "      <td>[[-0.0505935983144358, 0.2766032087812305, 0.0...</td>\n",
       "      <td>[[-0.3136600435355851, 16.235086817735706, 1.9...</td>\n",
       "      <td>[[-0.02737519076100561, -0.0014082034865067821...</td>\n",
       "      <td>[[-0.3136600435355851, 16.235086817735706, 1.9...</td>\n",
       "      <td>[[-40.905383265234356, 9.416246163388863, 38.3...</td>\n",
       "      <td>[[-1.3410413583995666, -0.01602115131799508], ...</td>\n",
       "      <td>7.0</td>\n",
       "    </tr>\n",
       "  </tbody>\n",
       "</table>\n",
       "<p>8 rows × 23 columns</p>\n",
       "</div>"
      ],
      "text/plain": [
       "   target_direction  bin_size  perturbation_info  idx_trial_start  \\\n",
       "0         -2.356194      0.02              -0.52              NaN   \n",
       "1         -1.570796      0.02              -0.52              NaN   \n",
       "2         -0.785398      0.02              -0.52              NaN   \n",
       "3          0.000000      0.02              -0.52              NaN   \n",
       "4          0.785398      0.02              -0.52              NaN   \n",
       "5          1.570796      0.02              -0.52              NaN   \n",
       "6          2.356194      0.02              -0.52              NaN   \n",
       "7          3.141593      0.02              -0.52              NaN   \n",
       "\n",
       "   idx_target_on  idx_go_cue  idx_movement_on  idx_peak_speed  idx_trial_end  \\\n",
       "0            NaN         NaN              0.0        8.394737      39.064516   \n",
       "1            NaN         NaN              0.0        8.970588      40.285714   \n",
       "2            NaN         NaN              0.0        9.263158      40.300000   \n",
       "3            NaN         NaN              0.0       10.470588      41.000000   \n",
       "4            NaN         NaN              0.0       10.030303      40.000000   \n",
       "5            NaN         NaN              0.0       12.888889      39.666667   \n",
       "6            NaN         NaN              0.0       12.891892            NaN   \n",
       "7            NaN         NaN              0.0       10.111111      39.809524   \n",
       "\n",
       "                                                 pos  ...  \\\n",
       "0  [[-0.23688179989507785, -0.36996324319466917],...  ...   \n",
       "1  [[0.04243524693505478, -0.5324067543076972], [...  ...   \n",
       "2  [[0.350513128403718, -0.3741507345529886], [0....  ...   \n",
       "3  [[0.4192450331565533, 0.14670106108002468], [0...  ...   \n",
       "4  [[0.37782836641468703, 0.46267643576772666], [...  ...   \n",
       "5  [[0.0694744740749151, 0.5321906410410623], [0....  ...   \n",
       "6  [[-0.3773516876932012, 0.29472940944353], [-0....  ...   \n",
       "7  [[-0.5839590200048925, -0.10949580230761373], ...  ...   \n",
       "\n",
       "                                       M1_unit_guide  \\\n",
       "0  [[1.0, 1.0], [1.0, 2.0], [5.0, 1.0], [5.0, 2.0...   \n",
       "1  [[1.0, 1.0], [1.0, 2.0], [5.0, 1.0], [5.0, 2.0...   \n",
       "2  [[1.0, 1.0], [1.0, 2.0], [5.0, 1.0], [5.0, 2.0...   \n",
       "3  [[1.0, 1.0], [1.0, 2.0], [5.0, 1.0], [5.0, 2.0...   \n",
       "4  [[1.0, 1.0], [1.0, 2.0], [5.0, 1.0], [5.0, 2.0...   \n",
       "5  [[1.0, 1.0], [1.0, 2.0], [5.0, 1.0], [5.0, 2.0...   \n",
       "6  [[1.0, 1.0], [1.0, 2.0], [5.0, 1.0], [5.0, 2.0...   \n",
       "7  [[1.0, 1.0], [1.0, 2.0], [5.0, 1.0], [5.0, 2.0...   \n",
       "\n",
       "                                          PMd_spikes  \\\n",
       "0  [[-0.06953810410104687, 0.02075668884767882, 0...   \n",
       "1  [[-0.03703036416296638, -0.0615522474917233, 0...   \n",
       "2  [[0.07294120017192932, -0.0055591006260052415,...   \n",
       "3  [[-0.007618599457084017, 0.0682775631663088, -...   \n",
       "4  [[-0.06555086327170077, 0.12687396780450935, -...   \n",
       "5  [[0.0430349953141578, -0.15700030886814986, -0...   \n",
       "6  [[0.03928124156040407, -0.04101121376074874, 0...   \n",
       "7  [[0.015257217536380034, 0.060456000152577655, ...   \n",
       "\n",
       "                                      PMd_unit_guide  \\\n",
       "0  [[1.0, 1.0], [1.0, 2.0], [6.0, 1.0], [0.263157...   \n",
       "1  [[1.0, 1.0], [1.0, 2.0], [6.0, 1.0], [7.0, 2.0...   \n",
       "2  [[1.0, 1.0], [1.0, 2.0], [6.0, 1.0], [0.263157...   \n",
       "3  [[1.0, 1.0], [1.0, 2.0], [6.0, 1.0], [7.0, 2.0...   \n",
       "4  [[1.0, 1.0], [1.0, 2.0], [6.0, 1.0], [7.0, 2.0...   \n",
       "5  [[1.0, 1.0], [1.0, 2.0], [6.0, 1.0], [7.0, 2.0...   \n",
       "6  [[1.0, 1.0], [1.0, 2.0], [6.0, 1.0], [0.081081...   \n",
       "7  [[1.0, 1.0], [1.0, 2.0], [6.0, 1.0], [7.0, 2.0...   \n",
       "\n",
       "                                         both_spikes  \\\n",
       "0  [[-0.025739797144845172, -0.2641424895887824, ...   \n",
       "1  [[-0.048959611386331224, -0.29045827906246663,...   \n",
       "2  [[-0.025739797144845172, -0.2641424895887824, ...   \n",
       "3  [[0.0686874474371982, -0.29045827906246663, 0....   \n",
       "4  [[0.012537714816877302, 0.012572023967836434, ...   \n",
       "5  [[0.15535677841815018, 0.42699802995826097, -0...   \n",
       "6  [[-0.07837137609221358, 0.3805802918766197, 0....   \n",
       "7  [[-0.0505935983144358, 0.2766032087812305, 0.0...   \n",
       "\n",
       "                                            M1_rates  \\\n",
       "0  [[-1.3768337198349265, -7.671490726774552, -1....   \n",
       "1  [[-1.5325598551960107, -14.254720652550462, -4...   \n",
       "2  [[-0.19689851440693615, -15.712295265106206, 8...   \n",
       "3  [[-0.7369906171396141, -15.017813952240896, 11...   \n",
       "4  [[0.24361697711807187, 0.30084274554006224, -3...   \n",
       "5  [[3.4523153937481617, 16.788530176262512, -7.6...   \n",
       "6  [[0.4306915704879451, 18.515460050475994, -3.8...   \n",
       "7  [[-0.3136600435355851, 16.235086817735706, 1.9...   \n",
       "\n",
       "                                           PMd_rates  \\\n",
       "0  [[-1.9131200351930613, -1.233225362990657, 3.2...   \n",
       "1  [[0.3207482087158063, 0.40174331050487855, 0.7...   \n",
       "2  [[2.1262019548560396, 2.914896670181827, -3.29...   \n",
       "3  [[0.3815787297758928, 1.9932489409165925, -4.5...   \n",
       "4  [[0.2449206302529509, 2.4894010679533687, -2.8...   \n",
       "5  [[-0.22586519495454438, -3.1499662903506422, 1...   \n",
       "6  [[-0.8362690748242982, -3.081999991511394, 1.7...   \n",
       "7  [[-0.02737519076100561, -0.0014082034865067821...   \n",
       "\n",
       "                                          both_rates  \\\n",
       "0  [[-1.3768337198349265, -7.671490726774552, -1....   \n",
       "1  [[-1.5325598551960107, -14.254720652550462, -4...   \n",
       "2  [[-0.19689851440693615, -15.712295265106206, 8...   \n",
       "3  [[-0.7369906171396141, -15.017813952240896, 11...   \n",
       "4  [[0.24361697711807187, 0.30084274554006224, -3...   \n",
       "5  [[3.4523153937481617, 16.788530176262512, -7.6...   \n",
       "6  [[0.4306915704879451, 18.515460050475994, -3.8...   \n",
       "7  [[-0.3136600435355851, 16.235086817735706, 1.9...   \n",
       "\n",
       "                                            both_pca  \\\n",
       "0  [[-33.587026814515774, -24.7118469663875, 49.7...   \n",
       "1  [[-3.4629921438717384, -40.737454559683805, 13...   \n",
       "2  [[45.4383273799782, -28.02694162964974, -26.29...   \n",
       "3  [[59.9757561265625, 4.665475809991278, -41.300...   \n",
       "4  [[32.73303793304802, 34.76013913400561, -36.21...   \n",
       "5  [[-15.946289611438134, 29.7326130379709, -18.1...   \n",
       "6  [[-37.98144392241708, 18.218316796427732, 14.2...   \n",
       "7  [[-40.905383265234356, 9.416246163388863, 38.3...   \n",
       "\n",
       "                                             both_fa target_id  \n",
       "0  [[-0.9174297015364706, 1.1719716605721233], [-...       0.0  \n",
       "1  [[0.04600143217983713, 1.5555380973862427], [0...       1.0  \n",
       "2  [[1.493892862684455, 0.7880548700442049], [1.6...       2.0  \n",
       "3  [[1.8134195177318437, -0.5909404725726153], [1...       3.0  \n",
       "4  [[0.8571264374326389, -1.507206544534516], [0....       4.0  \n",
       "5  [[-0.5329146212071201, -1.0956945210067093], [...       5.0  \n",
       "6  [[-1.2418559348664033, -0.47345262793933873], ...       6.0  \n",
       "7  [[-1.3410413583995666, -0.01602115131799508], ...       7.0  \n",
       "\n",
       "[8 rows x 23 columns]"
      ]
     },
     "execution_count": 21,
     "metadata": {},
     "output_type": "execute_result"
    }
   ],
   "source": [
    "av_per_dir"
   ]
  },
  {
   "cell_type": "markdown",
   "metadata": {},
   "source": [
    "## Plot the trial-averaged projections in 2D"
   ]
  },
  {
   "cell_type": "code",
   "execution_count": 22,
   "metadata": {},
   "outputs": [
    {
     "data": {
      "text/plain": [
       "Text(0.5, 1.0, 'FA')"
      ]
     },
     "execution_count": 22,
     "metadata": {},
     "output_type": "execute_result"
    },
    {
     "data": {
      "image/png": "[encoded data removed]",
      "text/plain": [
       "<Figure size 1440x576 with 2 Axes>"
      ]
     },
     "metadata": {
      "needs_background": "light"
     },
     "output_type": "display_data"
    }
   ],
   "source": [
    "fig, ax = plt.subplots(figsize = (20, 8), ncols = 2)\n",
    "\n",
    "for dir_pca in av_per_dir[\"both_pca\"]:\n",
    "    ax[0].scatter(*dir_pca[:, :2].T)\n",
    "    \n",
    "for dir_fa in av_per_dir[\"both_fa\"]:\n",
    "    ax[1].scatter(*dir_fa[:, :2].T)\n",
    "    \n",
    "ax[0].set_title('PCA')\n",
    "ax[1].set_title('FA')"
   ]
  },
  {
   "cell_type": "markdown",
   "metadata": {},
   "source": [
    "# Decode hand velocities from neural data using linear regression"
   ]
  },
  {
   "cell_type": "code",
   "execution_count": 23,
   "metadata": {},
   "outputs": [],
   "source": [
    "from sklearn.linear_model import Ridge, LinearRegression\n",
    "from sklearn.model_selection import cross_val_score"
   ]
  },
  {
   "cell_type": "code",
   "execution_count": 24,
   "metadata": {},
   "outputs": [
    {
     "name": "stdout",
     "output_type": "stream",
     "text": [
      "M1_rates:\t0.7825647340546695\n",
      "PMd_rates:\t0.7503158200203005\n",
      "both_rates:\t0.8510728248388636\n",
      "both_pca:\t0.8333961267405915\n"
     ]
    }
   ],
   "source": [
    "for input_field in [\"M1_rates\", \"PMd_rates\", \"both_rates\", \"both_pca\"]:\n",
    "    X = concat_trials(move_td, input_field)\n",
    "    y = concat_trials(move_td, \"vel\")\n",
    "\n",
    "    cv_scores = cross_val_score(LinearRegression(), X, y, cv = 5)\n",
    "    \n",
    "    print(f\"{input_field}:\\t{cv_scores.mean()}\")"
   ]
  },
  {
   "cell_type": "code",
   "execution_count": null,
   "metadata": {},
   "outputs": [],
   "source": []
  }
 ],
 "metadata": {
  "kernelspec": {
   "display_name": "Python 3.8 (subspaces)",
   "language": "python",
   "name": "subspaces"
  },
  "language_info": {
   "codemirror_mode": {
    "name": "ipython",
    "version": 3
   },
   "file_extension": ".py",
   "mimetype": "text/x-python",
   "name": "python",
   "nbconvert_exporter": "python",
   "pygments_lexer": "ipython3",
   "version": "3.8.6"
  },
  "toc-autonumbering": true
 },
 "nbformat": 4,
 "nbformat_minor": 4
}
