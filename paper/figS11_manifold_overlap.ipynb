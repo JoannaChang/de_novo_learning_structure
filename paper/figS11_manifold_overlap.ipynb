{
 "cells": [
  {
   "cell_type": "code",
   "execution_count": 1,
   "metadata": {
    "execution": {
     "iopub.execute_input": "2024-05-04T00:49:42.363710Z",
     "iopub.status.busy": "2024-05-04T00:49:42.363452Z",
     "iopub.status.idle": "2024-05-04T00:49:43.730900Z",
     "shell.execute_reply": "2024-05-04T00:49:43.730403Z"
    }
   },
   "outputs": [],
   "source": [
    "import matplotlib.pyplot as plt\n",
    "import tools.dataTools as dt\n",
    "from constants import Constants\n",
    "import figure_params\n",
    "import os\n",
    "import matplotlib.pyplot as plt\n",
    "from pyaldata import *\n",
    "import pickle\n",
    "from tqdm.auto import tqdm\n",
    "from textwrap import wrap\n",
    "import pyaldata as pyal\n",
    "import pandas as pd\n",
    "\n",
    "figure_params.set_rc_params()\n",
    "figure_params.setup_directories()\n",
    "\n",
    "SUBFIG_DIR = Constants.FIG_FOLDER + 'figS11_manifold_overlap/'\n",
    "if not os.path.exists(SUBFIG_DIR):\n",
    "    os.makedirs(SUBFIG_DIR)\n",
    "\n",
    "#run simulations for figure, will take a while to run\n",
    "import subprocess\n",
    "os.chdir(Constants.PROJ_DIR)\n",
    "# subprocess.run([\"bash\", \"simulation/fig_simulations/fig4_sims.sh\"]) #uncomment code to make datasets if not made yet\n",
    "\n",
    "import warnings\n",
    "warnings.filterwarnings(\"ignore\")"
   ]
  },
  {
   "cell_type": "code",
   "execution_count": 2,
   "metadata": {
    "execution": {
     "iopub.execute_input": "2024-05-04T00:49:43.733009Z",
     "iopub.status.busy": "2024-05-04T00:49:43.732826Z",
     "iopub.status.idle": "2024-05-04T00:49:43.734989Z",
     "shell.execute_reply": "2024-05-04T00:49:43.734628Z"
    }
   },
   "outputs": [],
   "source": [
    "seeds = Constants.SEEDS\n",
    "reps  = Constants.UNIS\n"
   ]
  },
  {
   "attachments": {},
   "cell_type": "markdown",
   "metadata": {},
   "source": [
    "#### Calculate comparison measures"
   ]
  },
  {
   "cell_type": "code",
   "execution_count": 3,
   "metadata": {
    "execution": {
     "iopub.execute_input": "2024-05-04T00:49:43.736745Z",
     "iopub.status.busy": "2024-05-04T00:49:43.736659Z",
     "iopub.status.idle": "2024-05-04T00:54:10.416578Z",
     "shell.execute_reply": "2024-05-04T00:54:10.416236Z"
    }
   },
   "outputs": [
    {
     "data": {
      "application/vnd.jupyter.widget-view+json": {
       "model_id": "76bf92c27db841a99779ee0ff103e216",
       "version_major": 2,
       "version_minor": 0
      },
      "text/plain": [
       "  0%|          | 0/10 [00:00<?, ?it/s]"
      ]
     },
     "metadata": {},
     "output_type": "display_data"
    },
    {
     "data": {
      "application/vnd.jupyter.widget-view+json": {
       "model_id": "dfa01ca039944466b2b504cd705b591c",
       "version_major": 2,
       "version_minor": 0
      },
      "text/plain": [
       "  0%|          | 0/10 [00:00<?, ?it/s]"
      ]
     },
     "metadata": {},
     "output_type": "display_data"
    }
   ],
   "source": [
    "perturbation = 'rotation'\n",
    "pert_param = 10.0 \n",
    "pert_set = 'v1'\n",
    "redo = False\n",
    "\n",
    "for sim_set in ['uni_rad', 'uni_onehot']:\n",
    "    fname = Constants.PROCESSED_DATA_FOLDER + sim_set + '/'+ 'manifold_overlap.pickle'\n",
    "    if os.path.isfile(fname) & (not redo):\n",
    "        with open(fname, 'rb') as f:\n",
    "            measures_df = pickle.load(f)\n",
    "    else:\n",
    "        #calculate manifold overlap\n",
    "        datafile = 'uni_10.0' + Constants.SIM_SET_DATA[sim_set]\n",
    "        rows_list = []\n",
    "        for seed in tqdm(seeds):\n",
    "            for rep in reps:\n",
    "                learning_datafile = rep + Constants.SIM_SET_DATA[sim_set]\n",
    "\n",
    "                #get simulation data\n",
    "                ## before adapt\n",
    "                prep_exec_df_init_learning = dt.get_pyaldata(sim_set, seed, rep, epoch_fun = Constants.prep_exec_epoch, \n",
    "                    subtract_mean=False, datafile = learning_datafile)\n",
    "                prep_exec_df_init_rates_learning = pyal.concat_trials(prep_exec_df_init_learning, 'MCx_rates')\n",
    "\n",
    "                ## after adapt\n",
    "                prep_exec_df_learning = dt.get_pyaldata(sim_set, seed, rep, perturbation, pert_param, pert_set, epoch_fun = Constants.prep_exec_epoch, \n",
    "                    subtract_mean=False, datafile = learning_datafile)\n",
    "                prep_exec_df_rates_learning = pyal.concat_trials(prep_exec_df_learning, 'MCx_rates')\n",
    "\n",
    "                #calc manifold overlap\n",
    "                prep_exec_manifold_overlap_learning = dt.manifold_overlap(prep_exec_df_init_rates_learning, prep_exec_df_rates_learning, pca_dims=Constants.PCA_DIMS)\n",
    "\n",
    "                prep_exec_manifold_overlap_learning_control = dt.manifold_overlap_control(prep_exec_df_init_rates_learning, pca_dims=Constants.PCA_DIMS)\n",
    "\n",
    "                temp = {\n",
    "                    'seed': seed,\n",
    "                    'repertoire': rep,\n",
    "                    'perturbation': perturbation,\n",
    "                    'pert_param': pert_param,\n",
    "                    'pert_set': pert_set,\n",
    "                    'prep_exec_manifold_overlap_learning': prep_exec_manifold_overlap_learning,\n",
    "                    'prep_exec_manifold_overlap_learning_control': prep_exec_manifold_overlap_learning_control,\n",
    "                }\n",
    "                rows_list.append(temp)\n",
    "\n",
    "        measures_df = pd.DataFrame(rows_list)\n",
    "        with open(fname, 'wb') as f:\n",
    "            pickle.dump(measures_df, f)"
   ]
  },
  {
   "attachments": {},
   "cell_type": "markdown",
   "metadata": {},
   "source": [
    "#### Manifold overlap"
   ]
  },
  {
   "cell_type": "code",
   "execution_count": 4,
   "metadata": {
    "execution": {
     "iopub.execute_input": "2024-05-04T00:54:10.418159Z",
     "iopub.status.busy": "2024-05-04T00:54:10.417918Z",
     "iopub.status.idle": "2024-05-04T00:54:11.019102Z",
     "shell.execute_reply": "2024-05-04T00:54:11.018763Z"
    }
   },
   "outputs": [
    {
     "name": "stdout",
     "output_type": "stream",
     "text": [
      "0.001953125\n",
      "0.001953125\n",
      "0.16015625\n"
     ]
    },
    {
     "data": {
      "image/png": "[encoded data removed]",
      "text/plain": [
       "<Figure size 288x384 with 1 Axes>"
      ]
     },
     "metadata": {},
     "output_type": "display_data"
    }
   ],
   "source": [
    "sim_set = 'uni_rad'\n",
    "fname = Constants.PROCESSED_DATA_FOLDER + sim_set + '/'+ 'manifold_overlap.pickle'\n",
    "with open(fname, 'rb') as f:\n",
    "    measures_df = pickle.load(f)\n",
    "\n",
    "g = dt.compare_measure(measures_df, 'prep_exec_manifold_overlap_learning', reps, stats_alternative=\"two-sided\")\n",
    "g.set_ylim([0.96,1.0])\n",
    "g.set_ylabel(\"\\n\".join(wrap('Manifold overlap')))\n",
    "plt.savefig(SUBFIG_DIR + 'manifold_overlap' + sim_set + '.pdf', format = 'pdf', bbox_inches = 'tight')"
   ]
  },
  {
   "cell_type": "code",
   "execution_count": 5,
   "metadata": {
    "execution": {
     "iopub.execute_input": "2024-05-04T00:54:11.020572Z",
     "iopub.status.busy": "2024-05-04T00:54:11.020463Z",
     "iopub.status.idle": "2024-05-04T00:54:11.470109Z",
     "shell.execute_reply": "2024-05-04T00:54:11.469866Z"
    }
   },
   "outputs": [
    {
     "name": "stdout",
     "output_type": "stream",
     "text": [
      "0.001953125\n",
      "0.083984375\n",
      "0.431640625\n"
     ]
    },
    {
     "data": {
      "image/png": "[encoded data removed]",
      "text/plain": [
       "<Figure size 288x384 with 1 Axes>"
      ]
     },
     "metadata": {},
     "output_type": "display_data"
    }
   ],
   "source": [
    "sim_set = 'uni_onehot'\n",
    "fname = Constants.PROCESSED_DATA_FOLDER + sim_set + '/'+ 'manifold_overlap.pickle'\n",
    "with open(fname, 'rb') as f:\n",
    "    measures_df = pickle.load(f)\n",
    "\n",
    "g = dt.compare_measure(measures_df, 'prep_exec_manifold_overlap_learning', reps, stats_alternative=\"two-sided\")\n",
    "g.set_ylim([0.96,1.0])\n",
    "g.set_ylabel(\"\\n\".join(wrap('Manifold overlap')))\n",
    "plt.savefig(SUBFIG_DIR + 'manifold_overlap' + sim_set + '.pdf', format = 'pdf', bbox_inches = 'tight')"
   ]
  },
  {
   "cell_type": "code",
   "execution_count": null,
   "metadata": {},
   "outputs": [],
   "source": []
  }
 ],
 "metadata": {
  "interpreter": {
   "hash": "a0e280d7a32deace8224336b7cdfd37dd7c3ef1f1efb2049a11ba174fe6a0067"
  },
  "kernelspec": {
   "display_name": "Python 3.6.13 ('python3': conda)",
   "language": "python",
   "name": "python3"
  },
  "language_info": {
   "codemirror_mode": {
    "name": "ipython",
    "version": 3
   },
   "file_extension": ".py",
   "mimetype": "text/x-python",
   "name": "python",
   "nbconvert_exporter": "python",
   "pygments_lexer": "ipython3",
   "version": "3.10.13"
  },
  "widgets": {
   "application/vnd.jupyter.widget-state+json": {
    "state": {
     "0afe7c2629ca4b1ab0530118befadad4": {
      "model_module": "@jupyter-widgets/base",
      "model_module_version": "2.0.0",
      "model_name": "LayoutModel",
      "state": {
       "_model_module": "@jupyter-widgets/base",
       "_model_module_version": "2.0.0",
       "_model_name": "LayoutModel",
       "_view_count": null,
       "_view_module": "@jupyter-widgets/base",
       "_view_module_version": "2.0.0",
       "_view_name": "LayoutView",
       "align_content": null,
       "align_items": null,
       "align_self": null,
       "border_bottom": null,
       "border_left": null,
       "border_right": null,
       "border_top": null,
       "bottom": null,
       "display": null,
       "flex": null,
       "flex_flow": null,
       "grid_area": null,
       "grid_auto_columns": null,
       "grid_auto_flow": null,
       "grid_auto_rows": null,
       "grid_column": null,
       "grid_gap": null,
       "grid_row": null,
       "grid_template_areas": null,
       "grid_template_columns": null,
       "grid_template_rows": null,
       "height": null,
       "justify_content": null,
       "justify_items": null,
       "left": null,
       "margin": null,
       "max_height": null,
       "max_width": null,
       "min_height": null,
       "min_width": null,
       "object_fit": null,
       "object_position": null,
       "order": null,
       "overflow": null,
       "padding": null,
       "right": null,
       "top": null,
       "visibility": null,
       "width": null
      }
     },
     "0face6ab4f094f3dab5a14e6806dc18f": {
      "model_module": "@jupyter-widgets/controls",
      "model_module_version": "2.0.0",
      "model_name": "FloatProgressModel",
      "state": {
       "_dom_classes": [],
       "_model_module": "@jupyter-widgets/controls",
       "_model_module_version": "2.0.0",
       "_model_name": "FloatProgressModel",
       "_view_count": null,
       "_view_module": "@jupyter-widgets/controls",
       "_view_module_version": "2.0.0",
       "_view_name": "ProgressView",
       "bar_style": "success",
       "description": "",
       "description_allow_html": false,
       "layout": "IPY_MODEL_5e88a8aaee17499d8ddc1a8e174fbc07",
       "max": 10.0,
       "min": 0.0,
       "orientation": "horizontal",
       "style": "IPY_MODEL_f012624dee0648efa5226414681353f7",
       "tabbable": null,
       "tooltip": null,
       "value": 10.0
      }
     },
     "1440c67c12c0452ba043b6d0735cfa14": {
      "model_module": "@jupyter-widgets/base",
      "model_module_version": "2.0.0",
      "model_name": "LayoutModel",
      "state": {
       "_model_module": "@jupyter-widgets/base",
       "_model_module_version": "2.0.0",
       "_model_name": "LayoutModel",
       "_view_count": null,
       "_view_module": "@jupyter-widgets/base",
       "_view_module_version": "2.0.0",
       "_view_name": "LayoutView",
       "align_content": null,
       "align_items": null,
       "align_self": null,
       "border_bottom": null,
       "border_left": null,
       "border_right": null,
       "border_top": null,
       "bottom": null,
       "display": null,
       "flex": null,
       "flex_flow": null,
       "grid_area": null,
       "grid_auto_columns": null,
       "grid_auto_flow": null,
       "grid_auto_rows": null,
       "grid_column": null,
       "grid_gap": null,
       "grid_row": null,
       "grid_template_areas": null,
       "grid_template_columns": null,
       "grid_template_rows": null,
       "height": null,
       "justify_content": null,
       "justify_items": null,
       "left": null,
       "margin": null,
       "max_height": null,
       "max_width": null,
       "min_height": null,
       "min_width": null,
       "object_fit": null,
       "object_position": null,
       "order": null,
       "overflow": null,
       "padding": null,
       "right": null,
       "top": null,
       "visibility": null,
       "width": null
      }
     },
     "145ab59b6ddd4cf2907b469008fdf8a6": {
      "model_module": "@jupyter-widgets/controls",
      "model_module_version": "2.0.0",
      "model_name": "HTMLStyleModel",
      "state": {
       "_model_module": "@jupyter-widgets/controls",
       "_model_module_version": "2.0.0",
       "_model_name": "HTMLStyleModel",
       "_view_count": null,
       "_view_module": "@jupyter-widgets/base",
       "_view_module_version": "2.0.0",
       "_view_name": "StyleView",
       "background": null,
       "description_width": "",
       "font_size": null,
       "text_color": null
      }
     },
     "39b075784f5e42d89a5d22eec7d5e0be": {
      "model_module": "@jupyter-widgets/base",
      "model_module_version": "2.0.0",
      "model_name": "LayoutModel",
      "state": {
       "_model_module": "@jupyter-widgets/base",
       "_model_module_version": "2.0.0",
       "_model_name": "LayoutModel",
       "_view_count": null,
       "_view_module": "@jupyter-widgets/base",
       "_view_module_version": "2.0.0",
       "_view_name": "LayoutView",
       "align_content": null,
       "align_items": null,
       "align_self": null,
       "border_bottom": null,
       "border_left": null,
       "border_right": null,
       "border_top": null,
       "bottom": null,
       "display": null,
       "flex": null,
       "flex_flow": null,
       "grid_area": null,
       "grid_auto_columns": null,
       "grid_auto_flow": null,
       "grid_auto_rows": null,
       "grid_column": null,
       "grid_gap": null,
       "grid_row": null,
       "grid_template_areas": null,
       "grid_template_columns": null,
       "grid_template_rows": null,
       "height": null,
       "justify_content": null,
       "justify_items": null,
       "left": null,
       "margin": null,
       "max_height": null,
       "max_width": null,
       "min_height": null,
       "min_width": null,
       "object_fit": null,
       "object_position": null,
       "order": null,
       "overflow": null,
       "padding": null,
       "right": null,
       "top": null,
       "visibility": null,
       "width": null
      }
     },
     "4c21715a8dab4c4790c3784ae8a443c3": {
      "model_module": "@jupyter-widgets/controls",
      "model_module_version": "2.0.0",
      "model_name": "HTMLStyleModel",
      "state": {
       "_model_module": "@jupyter-widgets/controls",
       "_model_module_version": "2.0.0",
       "_model_name": "HTMLStyleModel",
       "_view_count": null,
       "_view_module": "@jupyter-widgets/base",
       "_view_module_version": "2.0.0",
       "_view_name": "StyleView",
       "background": null,
       "description_width": "",
       "font_size": null,
       "text_color": null
      }
     },
     "5ceee329972b4cfbad021bf2458f7264": {
      "model_module": "@jupyter-widgets/controls",
      "model_module_version": "2.0.0",
      "model_name": "HTMLStyleModel",
      "state": {
       "_model_module": "@jupyter-widgets/controls",
       "_model_module_version": "2.0.0",
       "_model_name": "HTMLStyleModel",
       "_view_count": null,
       "_view_module": "@jupyter-widgets/base",
       "_view_module_version": "2.0.0",
       "_view_name": "StyleView",
       "background": null,
       "description_width": "",
       "font_size": null,
       "text_color": null
      }
     },
     "5e88a8aaee17499d8ddc1a8e174fbc07": {
      "model_module": "@jupyter-widgets/base",
      "model_module_version": "2.0.0",
      "model_name": "LayoutModel",
      "state": {
       "_model_module": "@jupyter-widgets/base",
       "_model_module_version": "2.0.0",
       "_model_name": "LayoutModel",
       "_view_count": null,
       "_view_module": "@jupyter-widgets/base",
       "_view_module_version": "2.0.0",
       "_view_name": "LayoutView",
       "align_content": null,
       "align_items": null,
       "align_self": null,
       "border_bottom": null,
       "border_left": null,
       "border_right": null,
       "border_top": null,
       "bottom": null,
       "display": null,
       "flex": null,
       "flex_flow": null,
       "grid_area": null,
       "grid_auto_columns": null,
       "grid_auto_flow": null,
       "grid_auto_rows": null,
       "grid_column": null,
       "grid_gap": null,
       "grid_row": null,
       "grid_template_areas": null,
       "grid_template_columns": null,
       "grid_template_rows": null,
       "height": null,
       "justify_content": null,
       "justify_items": null,
       "left": null,
       "margin": null,
       "max_height": null,
       "max_width": null,
       "min_height": null,
       "min_width": null,
       "object_fit": null,
       "object_position": null,
       "order": null,
       "overflow": null,
       "padding": null,
       "right": null,
       "top": null,
       "visibility": null,
       "width": null
      }
     },
     "699bf3799d4f4c15b3a5875f202fd60e": {
      "model_module": "@jupyter-widgets/controls",
      "model_module_version": "2.0.0",
      "model_name": "HTMLStyleModel",
      "state": {
       "_model_module": "@jupyter-widgets/controls",
       "_model_module_version": "2.0.0",
       "_model_name": "HTMLStyleModel",
       "_view_count": null,
       "_view_module": "@jupyter-widgets/base",
       "_view_module_version": "2.0.0",
       "_view_name": "StyleView",
       "background": null,
       "description_width": "",
       "font_size": null,
       "text_color": null
      }
     },
     "6e4aab60713f4a6e95560c9793ef7ef8": {
      "model_module": "@jupyter-widgets/base",
      "model_module_version": "2.0.0",
      "model_name": "LayoutModel",
      "state": {
       "_model_module": "@jupyter-widgets/base",
       "_model_module_version": "2.0.0",
       "_model_name": "LayoutModel",
       "_view_count": null,
       "_view_module": "@jupyter-widgets/base",
       "_view_module_version": "2.0.0",
       "_view_name": "LayoutView",
       "align_content": null,
       "align_items": null,
       "align_self": null,
       "border_bottom": null,
       "border_left": null,
       "border_right": null,
       "border_top": null,
       "bottom": null,
       "display": null,
       "flex": null,
       "flex_flow": null,
       "grid_area": null,
       "grid_auto_columns": null,
       "grid_auto_flow": null,
       "grid_auto_rows": null,
       "grid_column": null,
       "grid_gap": null,
       "grid_row": null,
       "grid_template_areas": null,
       "grid_template_columns": null,
       "grid_template_rows": null,
       "height": null,
       "justify_content": null,
       "justify_items": null,
       "left": null,
       "margin": null,
       "max_height": null,
       "max_width": null,
       "min_height": null,
       "min_width": null,
       "object_fit": null,
       "object_position": null,
       "order": null,
       "overflow": null,
       "padding": null,
       "right": null,
       "top": null,
       "visibility": null,
       "width": null
      }
     },
     "765ec5ad9dcb4f8eb295e97efeaf8283": {
      "model_module": "@jupyter-widgets/controls",
      "model_module_version": "2.0.0",
      "model_name": "HTMLModel",
      "state": {
       "_dom_classes": [],
       "_model_module": "@jupyter-widgets/controls",
       "_model_module_version": "2.0.0",
       "_model_name": "HTMLModel",
       "_view_count": null,
       "_view_module": "@jupyter-widgets/controls",
       "_view_module_version": "2.0.0",
       "_view_name": "HTMLView",
       "description": "",
       "description_allow_html": false,
       "layout": "IPY_MODEL_0afe7c2629ca4b1ab0530118befadad4",
       "placeholder": "​",
       "style": "IPY_MODEL_699bf3799d4f4c15b3a5875f202fd60e",
       "tabbable": null,
       "tooltip": null,
       "value": " 10/10 [02:27&lt;00:00, 15.08s/it]"
      }
     },
     "76bf92c27db841a99779ee0ff103e216": {
      "model_module": "@jupyter-widgets/controls",
      "model_module_version": "2.0.0",
      "model_name": "HBoxModel",
      "state": {
       "_dom_classes": [],
       "_model_module": "@jupyter-widgets/controls",
       "_model_module_version": "2.0.0",
       "_model_name": "HBoxModel",
       "_view_count": null,
       "_view_module": "@jupyter-widgets/controls",
       "_view_module_version": "2.0.0",
       "_view_name": "HBoxView",
       "box_style": "",
       "children": [
        "IPY_MODEL_9a229dcf96a442648381af3c406991fe",
        "IPY_MODEL_0face6ab4f094f3dab5a14e6806dc18f",
        "IPY_MODEL_e3953643f48647d197b94e04e9da8304"
       ],
       "layout": "IPY_MODEL_bc861b636d4543abb65771ccb41a2676",
       "tabbable": null,
       "tooltip": null
      }
     },
     "839d9fe748674543847a9900f5474899": {
      "model_module": "@jupyter-widgets/controls",
      "model_module_version": "2.0.0",
      "model_name": "FloatProgressModel",
      "state": {
       "_dom_classes": [],
       "_model_module": "@jupyter-widgets/controls",
       "_model_module_version": "2.0.0",
       "_model_name": "FloatProgressModel",
       "_view_count": null,
       "_view_module": "@jupyter-widgets/controls",
       "_view_module_version": "2.0.0",
       "_view_name": "ProgressView",
       "bar_style": "success",
       "description": "",
       "description_allow_html": false,
       "layout": "IPY_MODEL_6e4aab60713f4a6e95560c9793ef7ef8",
       "max": 10.0,
       "min": 0.0,
       "orientation": "horizontal",
       "style": "IPY_MODEL_88291123a7da4f6b98a5ebb59200190a",
       "tabbable": null,
       "tooltip": null,
       "value": 10.0
      }
     },
     "88291123a7da4f6b98a5ebb59200190a": {
      "model_module": "@jupyter-widgets/controls",
      "model_module_version": "2.0.0",
      "model_name": "ProgressStyleModel",
      "state": {
       "_model_module": "@jupyter-widgets/controls",
       "_model_module_version": "2.0.0",
       "_model_name": "ProgressStyleModel",
       "_view_count": null,
       "_view_module": "@jupyter-widgets/base",
       "_view_module_version": "2.0.0",
       "_view_name": "StyleView",
       "bar_color": null,
       "description_width": ""
      }
     },
     "89cd53a48f3b4f4794189dbcc8be0bc2": {
      "model_module": "@jupyter-widgets/base",
      "model_module_version": "2.0.0",
      "model_name": "LayoutModel",
      "state": {
       "_model_module": "@jupyter-widgets/base",
       "_model_module_version": "2.0.0",
       "_model_name": "LayoutModel",
       "_view_count": null,
       "_view_module": "@jupyter-widgets/base",
       "_view_module_version": "2.0.0",
       "_view_name": "LayoutView",
       "align_content": null,
       "align_items": null,
       "align_self": null,
       "border_bottom": null,
       "border_left": null,
       "border_right": null,
       "border_top": null,
       "bottom": null,
       "display": null,
       "flex": null,
       "flex_flow": null,
       "grid_area": null,
       "grid_auto_columns": null,
       "grid_auto_flow": null,
       "grid_auto_rows": null,
       "grid_column": null,
       "grid_gap": null,
       "grid_row": null,
       "grid_template_areas": null,
       "grid_template_columns": null,
       "grid_template_rows": null,
       "height": null,
       "justify_content": null,
       "justify_items": null,
       "left": null,
       "margin": null,
       "max_height": null,
       "max_width": null,
       "min_height": null,
       "min_width": null,
       "object_fit": null,
       "object_position": null,
       "order": null,
       "overflow": null,
       "padding": null,
       "right": null,
       "top": null,
       "visibility": null,
       "width": null
      }
     },
     "95f1da32e462414abbd12dc11205f826": {
      "model_module": "@jupyter-widgets/controls",
      "model_module_version": "2.0.0",
      "model_name": "HTMLModel",
      "state": {
       "_dom_classes": [],
       "_model_module": "@jupyter-widgets/controls",
       "_model_module_version": "2.0.0",
       "_model_name": "HTMLModel",
       "_view_count": null,
       "_view_module": "@jupyter-widgets/controls",
       "_view_module_version": "2.0.0",
       "_view_name": "HTMLView",
       "description": "",
       "description_allow_html": false,
       "layout": "IPY_MODEL_39b075784f5e42d89a5d22eec7d5e0be",
       "placeholder": "​",
       "style": "IPY_MODEL_145ab59b6ddd4cf2907b469008fdf8a6",
       "tabbable": null,
       "tooltip": null,
       "value": "100%"
      }
     },
     "9a229dcf96a442648381af3c406991fe": {
      "model_module": "@jupyter-widgets/controls",
      "model_module_version": "2.0.0",
      "model_name": "HTMLModel",
      "state": {
       "_dom_classes": [],
       "_model_module": "@jupyter-widgets/controls",
       "_model_module_version": "2.0.0",
       "_model_name": "HTMLModel",
       "_view_count": null,
       "_view_module": "@jupyter-widgets/controls",
       "_view_module_version": "2.0.0",
       "_view_name": "HTMLView",
       "description": "",
       "description_allow_html": false,
       "layout": "IPY_MODEL_1440c67c12c0452ba043b6d0735cfa14",
       "placeholder": "​",
       "style": "IPY_MODEL_4c21715a8dab4c4790c3784ae8a443c3",
       "tabbable": null,
       "tooltip": null,
       "value": "100%"
      }
     },
     "bc861b636d4543abb65771ccb41a2676": {
      "model_module": "@jupyter-widgets/base",
      "model_module_version": "2.0.0",
      "model_name": "LayoutModel",
      "state": {
       "_model_module": "@jupyter-widgets/base",
       "_model_module_version": "2.0.0",
       "_model_name": "LayoutModel",
       "_view_count": null,
       "_view_module": "@jupyter-widgets/base",
       "_view_module_version": "2.0.0",
       "_view_name": "LayoutView",
       "align_content": null,
       "align_items": null,
       "align_self": null,
       "border_bottom": null,
       "border_left": null,
       "border_right": null,
       "border_top": null,
       "bottom": null,
       "display": null,
       "flex": null,
       "flex_flow": null,
       "grid_area": null,
       "grid_auto_columns": null,
       "grid_auto_flow": null,
       "grid_auto_rows": null,
       "grid_column": null,
       "grid_gap": null,
       "grid_row": null,
       "grid_template_areas": null,
       "grid_template_columns": null,
       "grid_template_rows": null,
       "height": null,
       "justify_content": null,
       "justify_items": null,
       "left": null,
       "margin": null,
       "max_height": null,
       "max_width": null,
       "min_height": null,
       "min_width": null,
       "object_fit": null,
       "object_position": null,
       "order": null,
       "overflow": null,
       "padding": null,
       "right": null,
       "top": null,
       "visibility": null,
       "width": null
      }
     },
     "d25876fdba7841c88cc365ae97a8b876": {
      "model_module": "@jupyter-widgets/base",
      "model_module_version": "2.0.0",
      "model_name": "LayoutModel",
      "state": {
       "_model_module": "@jupyter-widgets/base",
       "_model_module_version": "2.0.0",
       "_model_name": "LayoutModel",
       "_view_count": null,
       "_view_module": "@jupyter-widgets/base",
       "_view_module_version": "2.0.0",
       "_view_name": "LayoutView",
       "align_content": null,
       "align_items": null,
       "align_self": null,
       "border_bottom": null,
       "border_left": null,
       "border_right": null,
       "border_top": null,
       "bottom": null,
       "display": null,
       "flex": null,
       "flex_flow": null,
       "grid_area": null,
       "grid_auto_columns": null,
       "grid_auto_flow": null,
       "grid_auto_rows": null,
       "grid_column": null,
       "grid_gap": null,
       "grid_row": null,
       "grid_template_areas": null,
       "grid_template_columns": null,
       "grid_template_rows": null,
       "height": null,
       "justify_content": null,
       "justify_items": null,
       "left": null,
       "margin": null,
       "max_height": null,
       "max_width": null,
       "min_height": null,
       "min_width": null,
       "object_fit": null,
       "object_position": null,
       "order": null,
       "overflow": null,
       "padding": null,
       "right": null,
       "top": null,
       "visibility": null,
       "width": null
      }
     },
     "dfa01ca039944466b2b504cd705b591c": {
      "model_module": "@jupyter-widgets/controls",
      "model_module_version": "2.0.0",
      "model_name": "HBoxModel",
      "state": {
       "_dom_classes": [],
       "_model_module": "@jupyter-widgets/controls",
       "_model_module_version": "2.0.0",
       "_model_name": "HBoxModel",
       "_view_count": null,
       "_view_module": "@jupyter-widgets/controls",
       "_view_module_version": "2.0.0",
       "_view_name": "HBoxView",
       "box_style": "",
       "children": [
        "IPY_MODEL_95f1da32e462414abbd12dc11205f826",
        "IPY_MODEL_839d9fe748674543847a9900f5474899",
        "IPY_MODEL_765ec5ad9dcb4f8eb295e97efeaf8283"
       ],
       "layout": "IPY_MODEL_89cd53a48f3b4f4794189dbcc8be0bc2",
       "tabbable": null,
       "tooltip": null
      }
     },
     "e3953643f48647d197b94e04e9da8304": {
      "model_module": "@jupyter-widgets/controls",
      "model_module_version": "2.0.0",
      "model_name": "HTMLModel",
      "state": {
       "_dom_classes": [],
       "_model_module": "@jupyter-widgets/controls",
       "_model_module_version": "2.0.0",
       "_model_name": "HTMLModel",
       "_view_count": null,
       "_view_module": "@jupyter-widgets/controls",
       "_view_module_version": "2.0.0",
       "_view_name": "HTMLView",
       "description": "",
       "description_allow_html": false,
       "layout": "IPY_MODEL_d25876fdba7841c88cc365ae97a8b876",
       "placeholder": "​",
       "style": "IPY_MODEL_5ceee329972b4cfbad021bf2458f7264",
       "tabbable": null,
       "tooltip": null,
       "value": " 10/10 [01:59&lt;00:00, 11.99s/it]"
      }
     },
     "f012624dee0648efa5226414681353f7": {
      "model_module": "@jupyter-widgets/controls",
      "model_module_version": "2.0.0",
      "model_name": "ProgressStyleModel",
      "state": {
       "_model_module": "@jupyter-widgets/controls",
       "_model_module_version": "2.0.0",
       "_model_name": "ProgressStyleModel",
       "_view_count": null,
       "_view_module": "@jupyter-widgets/base",
       "_view_module_version": "2.0.0",
       "_view_name": "StyleView",
       "bar_color": null,
       "description_width": ""
      }
     }
    },
    "version_major": 2,
    "version_minor": 0
   }
  }
 },
 "nbformat": 4,
 "nbformat_minor": 2
}
